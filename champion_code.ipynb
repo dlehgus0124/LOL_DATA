{
 "cells": [
  {
   "cell_type": "code",
   "execution_count": null,
   "metadata": {},
   "outputs": [],
   "source": [
    "import requests\n",
    "import pandas as pd\n",
    "\n",
    "\n",
    "r = requests.get('https://ddragon.leagueoflegends.com/api/versions.json')\n",
    "current_version = r.json()[0] #최신 버전\n",
    "print('버전확인',current_version)\n",
    "\n",
    "r = requests.get('http://ddragon.leagueoflegends.com/cdn/{}/data/ko_KR/champion.json'.format(current_version))\n",
    "parsed_data = r.json()\n",
    "info_df = pd.DataFrame(parsed_data)\n",
    "\n",
    "champ_dic = {}\n",
    "for i, champ in enumerate(info_df.data):\n",
    "    champ_dic[i] = pd.Series(champ)\n",
    "\n",
    "champ_df = pd.DataFrame(champ_dic).T\n",
    "champ_df = champ_df.drop(['version', 'image', 'info', 'stats','title','blurb','tags','partype'], axis=1)\n",
    "champ_df.to_csv('Champion_list.csv', encoding='utf-8-sig')"
   ]
  }
 ],
 "metadata": {
  "kernelspec": {
   "display_name": "Python 3",
   "language": "python",
   "name": "python3"
  },
  "language_info": {
   "codemirror_mode": {
    "name": "ipython",
    "version": 3
   },
   "file_extension": ".py",
   "mimetype": "text/x-python",
   "name": "python",
   "nbconvert_exporter": "python",
   "pygments_lexer": "ipython3",
   "version": "3.12.0"
  }
 },
 "nbformat": 4,
 "nbformat_minor": 2
}
