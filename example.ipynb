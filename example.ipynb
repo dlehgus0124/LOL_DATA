{
 "cells": [
  {
   "cell_type": "code",
   "execution_count": null,
   "metadata": {},
   "outputs": [],
   "source": [
    "import pandas as pd\n",
    "import requests\n",
    "import time\n",
    "\n",
    "api_key = 'RGAPI-b56cf1c8-b68f-404e-bae4-d0b432ac53b1'\n",
    "request_header = {\n",
    "    \"User-Agent\": \"Mozilla/5.0 (Windows NT 10.0; Win64; x64) AppleWebKit/537.36 (KHTML, like Gecko) Chrome/91.0.4472.164 Safari/537.36\",\n",
    "    \"Accept-Language\": \"ko-KR,ko;q=0.9,en-US;q=0.8,en;q=0.7\",\n",
    "    \"Accept-Charset\": \"application/x-www-form-urlencoded; charset=UTF-8\",\n",
    "    \"Origin\": \"https://developer.riotgames.com\",\n",
    "    \"X-Riot-Token\": api_key\n",
    "}\n",
    "\n",
    "for rank_level in ['I','II', 'III'] :\n",
    "    final_reulst = []\n",
    "    i = 1\n",
    "    for i in range(1, 100):\n",
    "        print(rank_level, i)\n",
    "        url = f\"https://kr.api.riotgames.com/lol/league-exp/v4/entries/RANKED_SOLO_5x5/BRONZE/{rank_level}?page={i}\"\n",
    "        bronze_user = requests.get(url, headers=request_header).json()\n",
    "        final_reulst += bronze_user\n",
    "        time.sleep(1)\n",
    "        if len(bronze_user) == 0:\n",
    "            break\n",
    "    df= pd.json_normalize(final_reulst)\n",
    "    df.to_csv(f'bronze_{rank_level}_user.csv', index=False, encoding='CP949')"
   ]
  }
 ],
 "metadata": {
  "language_info": {
   "name": "python"
  }
 },
 "nbformat": 4,
 "nbformat_minor": 2
}
