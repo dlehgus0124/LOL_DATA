{
 "cells": [
  {
   "cell_type": "code",
   "execution_count": null,
   "metadata": {},
   "outputs": [
    {
     "ename": "",
     "evalue": "",
     "output_type": "error",
     "traceback": [
      "\u001b[1;31m'Python 3.12.2 64-bit'(으)로 셀을 실행하려면 ipykernel 패키지가 필요합니다.\n",
      "\u001b[1;31m다음 명령어를 실행하여 Python 환경에 'ipykernel'을(를) 설치합니다. \n",
      "\u001b[1;31m 명령: '/opt/homebrew/bin/python3 -m pip install ipykernel -U --user --force-reinstall'"
     ]
    }
   ],
   "source": [
    "# 플레티넘1 summonerID 받을거임\n",
    "\n",
    "import requests\n",
    "import time\n",
    "\n",
    "api_key = \"RGAPI-de41b959-2191-4dad-a484-ec6378e29b89\"\n",
    "request_header = {\n",
    "    \"User-Agent\": \"Mozilla/5.0 (Macintosh; Intel Mac OS X 10_15_7) AppleWebKit/537.36 (KHTML, like Gecko) Chrome/124.0.0.0 Safari/537.36\",\n",
    "    \"Accept-Language\": \"ko-KR,ko;q=0.9,en-US;q=0.8,en;q=0.7\",\n",
    "    \"Accept-Charset\": \"application/x-www-form-urlencoded; charset=UTF-8\",\n",
    "    \"Origin\": api_key\n",
    "}\n",
    "url = 'https://kr.api.riotgames.com/lol/league/v4/entries/RANKED_SOLO_5x5/PLATINUM/I?page=1&api_key=' + api_key\n",
    "\n",
    "req = requests.get(url)"
   ]
  },
  {
   "cell_type": "code",
   "execution_count": null,
   "metadata": {},
   "outputs": [],
   "source": [
    "#content-type 이 json\n",
    "#data 총 205개\n",
    "\n",
    "print(len(req.json()))\n"
   ]
  },
  {
   "cell_type": "code",
   "execution_count": null,
   "metadata": {},
   "outputs": [],
   "source": [
    "if req.status_code == 200:\n",
    "    data = req.json()  # 리스트를 반환받음\n",
    "    \n",
    "    summonerIds = []  # summonerId 값을 저장할 리스트\n",
    "    \n",
    "    for item in data:\n",
    "      \n",
    "        summonerId = item.get('summonerId')\n",
    "        summonerIds.append(summonerId)  # summonerId를 리스트에 추가\n",
    "        time.sleep(1)\n",
    "\n",
    "        \n",
    "    # summonerIds 리스트에는 각 요소의 summonerId 값이 저장됨\n",
    "\n",
    "print(type(item))\n",
    "print(len(summonerIds))\n",
    "print(type(summonerIds)) #205개의 summonerId를 summonerIds에 리스트 형태로 저장"
   ]
  },
  {
   "cell_type": "code",
   "execution_count": null,
   "metadata": {},
   "outputs": [],
   "source": [
    "print(summonerIds)"
   ]
  },
  {
   "cell_type": "code",
   "execution_count": null,
   "metadata": {},
   "outputs": [],
   "source": [
    "header = {\"X-Riot-Token\" : api_key}\n",
    " \n",
    "def summoners(encryptedSummonerId):\n",
    "    url = f\"https://kr.api.riotgames.com/lol/summoner/v4/summoners/{encryptedSummonerId}\"\n",
    "        \n",
    "    return requests.get(url, headers=header)"
   ]
  },
  {
   "cell_type": "code",
   "execution_count": null,
   "metadata": {},
   "outputs": [],
   "source": [
    "# puuid 가 나오는지 그냥 테스트 \n",
    "req = summoners('LE60xZVPZKwqnG9-kw4NPkiCZcSbUFtzmIG44YdiwnLTZlOc')\n",
    "if req.status_code == 200:\n",
    "  data = req.json()\n",
    "\n",
    "  puuid = data['puuid']\n",
    "\n",
    "print(puuid)"
   ]
  },
  {
   "cell_type": "code",
   "execution_count": null,
   "metadata": {},
   "outputs": [],
   "source": [
    "# summonerIds 리스트 안에 값들 다 출력\n",
    "for idx, summonerId in enumerate(summonerIds, start=1):\n",
    "    print(f\"{idx}: {summonerId}\")"
   ]
  },
  {
   "cell_type": "code",
   "execution_count": null,
   "metadata": {},
   "outputs": [],
   "source": [
    "puuids = []  # puuid 값을 저장할 리스트\n",
    "\n",
    "for suId in summonerIds:\n",
    "    req = summoners(suId)  # 각 summonerId에 대한 요청 보내기\n",
    "    \n",
    "    if req.status_code == 200:\n",
    "        data = req.json()\n",
    "        \n",
    "        puuid = data['puuid']  # puuid 값 가져오기\n",
    "        puuids.append(puuid)  # puuid 값을 puuids 리스트에 추가\n",
    "\n",
    "    time.sleep(1) #1초씩 시간차(데이터 가져오는 속도 제한 떄문에)\n",
    "\n",
    "\n",
    "print(len(puuids))"
   ]
  },
  {
   "cell_type": "code",
   "execution_count": null,
   "metadata": {},
   "outputs": [],
   "source": [
    "# pu 아이디 전체 출력 \n",
    "for idx, puuid in enumerate(puuids, start=1):\n",
    "    print(f\"{idx}: {puuid}\")"
   ]
  },
  {
   "cell_type": "code",
   "execution_count": null,
   "metadata": {},
   "outputs": [],
   "source": [
    "# puID 이용해서 matchID 가져오기(10개만)\n",
    "header = {\"X-Riot-Token\" : api_key}\n",
    " \n",
    "def match_list(puuid, start, count):\n",
    "    url = f\"https://asia.api.riotgames.com/lol/match/v5/matches/by-puuid/{puuid}/ids?start={start}&count={count}\"\n",
    "    return requests.get(url, headers=header)"
   ]
  },
  {
   "cell_type": "code",
   "execution_count": null,
   "metadata": {},
   "outputs": [],
   "source": [
    "# matchID 가져와지는지 테스트\n",
    "\n",
    "puuid = \"Ta_hJfSs2A3xmhsZLYpJQBiqg0ieV_sFOyQM8CJvNVyTHd78P4Kvp8Y7yVuPPrOWAktjmr1P2WHB4g\"\n",
    "\n",
    "req = match_list(puuid, 0, 10)\n",
    "\n",
    "if req.status_code == 200:\n",
    "    data = req.json()\n",
    "    print(data)"
   ]
  },
  {
   "cell_type": "code",
   "execution_count": null,
   "metadata": {},
   "outputs": [],
   "source": [
    "# matchID 수집\n",
    "matchIDs = []\n",
    "\n",
    "for puuid in puuids:\n",
    "    req = match_list(puuid, 0, 10)\n",
    "    if req.status_code == 200:\n",
    "        data = req.json()\n",
    "        matchIDs.extend(data)  # 각 puuid에 대한 matchID를 matchIDs 리스트에 원소로 추가\n",
    "        print(data)\n",
    "\n",
    "    time.sleep(1) #1초씩 시간차(데이터 가져오는 속도 제한 떄문에)\n"
   ]
  },
  {
   "cell_type": "code",
   "execution_count": null,
   "metadata": {},
   "outputs": [],
   "source": [
    "# matchID 를 사용해 매치 데이터 가져오기\n",
    "header = {\"X-Riot-Token\" : api_key}\n",
    "\n",
    "def match(matchId):\n",
    "    url = f\"https://asia.api.riotgames.com/lol/match/v5/matches/{matchId}\"\n",
    "    \n",
    "    return requests.get(url, headers=header)"
   ]
  },
  {
   "cell_type": "code",
   "execution_count": null,
   "metadata": {},
   "outputs": [],
   "source": [
    "req = match('KR_7056198504')\n",
    "\n",
    "if req.status_code == 200:\n",
    "    data = req.json()\n",
    "\n",
    "    participants = data['info']['participants']\n",
    "\n",
    "    for participant in participants:\n",
    "        kills = participant['kills']\n",
    "        deaths = participant['deaths']\n",
    "        assists = participant['assists']\n",
    "\n",
    "        print(kills, deaths, assists)"
   ]
  },
  {
   "cell_type": "code",
   "execution_count": null,
   "metadata": {},
   "outputs": [],
   "source": [
    "\n",
    "# for match_id in matchIDs:\n",
    "#   req = match(match_id)\n",
    "\n",
    "#   if req.status_code == 200:\n",
    "#     data = req.json()\n",
    "\n",
    "#     participants = data['info']['participants']\n",
    "\n",
    "#     for participants in participants:\n",
    "#       kills = participant['kills']\n",
    "#       deaths = participant['deaths']\n",
    "#       assists = participant['assists']\n"
   ]
  }
 ],
 "metadata": {
  "kernelspec": {
   "display_name": "Python 3.12.2 64-bit",
   "language": "python",
   "name": "python3"
  },
  "language_info": {
   "name": "python",
   "version": "3.12.2"
  },
  "orig_nbformat": 4,
  "vscode": {
   "interpreter": {
    "hash": "b0fa6594d8f4cbf19f97940f81e996739fb7646882a419484c72d19e05852a7e"
   }
  }
 },
 "nbformat": 4,
 "nbformat_minor": 2
}
